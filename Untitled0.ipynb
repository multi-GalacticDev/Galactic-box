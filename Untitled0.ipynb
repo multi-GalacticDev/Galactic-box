{
  "nbformat": 4,
  "nbformat_minor": 0,
  "metadata": {
    "colab": {
      "provenance": [],
      "authorship_tag": "ABX9TyO28N6XLjuT5kPenThgoWxC",
      "include_colab_link": true
    },
    "kernelspec": {
      "name": "python3",
      "display_name": "Python 3"
    },
    "language_info": {
      "name": "python"
    }
  },
  "cells": [
    {
      "cell_type": "markdown",
      "metadata": {
        "id": "view-in-github",
        "colab_type": "text"
      },
      "source": [
        "<a href=\"https://colab.research.google.com/github/multi-GalacticDev/Galactic-box/blob/main/Untitled0.ipynb\" target=\"_parent\"><img src=\"https://colab.research.google.com/assets/colab-badge.svg\" alt=\"Open In Colab\"/></a>"
      ]
    },
    {
      "cell_type": "code",
      "execution_count": 1,
      "metadata": {
        "colab": {
          "base_uri": "https://localhost:8080/"
        },
        "id": "AKvc4p-agYW2",
        "outputId": "02f4a2a8-75d0-460b-89a4-cb15c4701231"
      },
      "outputs": [
        {
          "output_type": "stream",
          "name": "stdout",
          "text": [
            "Enter the first number: 1\n",
            "Enter the second number: 2\n",
            "The result of multiplying 1.0 and 2.0 is: 2.0\n"
          ]
        }
      ],
      "source": [
        "# Function to multiply two numbers\n",
        "def multiply_numbers(a, b):\n",
        "    return a * b\n",
        "\n",
        "# Taking user input for the first number\n",
        "num1 = float(input(\"Enter the first number: \"))\n",
        "\n",
        "# Taking user input for the second number\n",
        "num2 = float(input(\"Enter the second number: \"))\n",
        "\n",
        "# Multiply the two numbers using the function\n",
        "result = multiply_numbers(num1, num2)\n",
        "\n",
        "# Displaying the result\n",
        "print(\"The result of multiplying\", num1, \"and\", num2, \"is:\", result)\n",
        "\n"
      ]
    }
  ]
}