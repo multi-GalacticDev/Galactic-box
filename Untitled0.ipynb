{
  "nbformat": 4,
  "nbformat_minor": 0,
  "metadata": {
    "colab": {
      "provenance": [],
      "authorship_tag": "ABX9TyN27eJKBReYD9Hc+5mpbWsB",
      "include_colab_link": true
    },
    "kernelspec": {
      "name": "python3",
      "display_name": "Python 3"
    },
    "language_info": {
      "name": "python"
    }
  },
  "cells": [
    {
      "cell_type": "markdown",
      "metadata": {
        "id": "view-in-github",
        "colab_type": "text"
      },
      "source": [
        "<a href=\"https://colab.research.google.com/github/multi-GalacticDev/Galactic-box/blob/main/Untitled0.ipynb\" target=\"_parent\"><img src=\"https://colab.research.google.com/assets/colab-badge.svg\" alt=\"Open In Colab\"/></a>"
      ]
    },
    {
      "cell_type": "markdown",
      "source": [],
      "metadata": {
        "id": "zbyAfBQVjxE2"
      }
    },
    {
      "cell_type": "code",
      "source": [
        "def print_board(board):\n",
        "    for row in board:\n",
        "        print(\" | \".join(row))\n",
        "        print(\"-\" * 9)\n",
        "\n",
        "def check_winner(board):\n",
        "    # Check rows, columns, and diagonals for a win\n",
        "    for i in range(3):\n",
        "        if board[i][0] == board[i][1] == board[i][2] != \" \" or \\\n",
        "           board[0][i] == board[1][i] == board[2][i] != \" \":\n",
        "            return True\n",
        "\n",
        "    if board[0][0] == board[1][1] == board[2][2] != \" \" or \\\n",
        "       board[0][2] == board[1][1] == board[2][0] != \" \":\n",
        "        return True\n",
        "\n",
        "    return False\n",
        "\n",
        "def is_board_full(board):\n",
        "    for row in board:\n",
        "        if \" \" in row:\n",
        "            return False\n",
        "    return True\n",
        "\n",
        "def play_game():\n",
        "    board = [[\" \" for _ in range(3)] for _ in range(3)]\n",
        "    print(\"Welcome to Tic-Tac-Toe!\")\n",
        "    print_board(board)\n",
        "\n",
        "    player = \"X\"\n",
        "    while True:\n",
        "        while True:\n",
        "            try:\n",
        "                row = int(input(f\"Player {player}, enter row (0, 1, or 2): \"))\n",
        "                if row < 0 or row > 2:\n",
        "                    raise ValueError(\"The value is out of scope. Please re-enter.\")\n",
        "                break\n",
        "            except ValueError as e:\n",
        "                print(e)\n",
        "\n",
        "        while True:\n",
        "            try:\n",
        "                col = int(input(f\"Player {player}, enter column (0, 1, or 2): \"))\n",
        "                if col < 0 or col > 2:\n",
        "                    raise ValueError(\"The value is out of scope. Please re-enter.\")\n",
        "                break\n",
        "            except ValueError as e:\n",
        "                print(e)\n",
        "\n",
        "        if board[row][col] == \" \":\n",
        "            board[row][col] = player\n",
        "            print_board(board)\n",
        "\n",
        "            if check_winner(board):\n",
        "                print(f\"Congratulations! Player {player} wins!\")\n",
        "                break\n",
        "            elif is_board_full(board):\n",
        "                print(\"It's a tie!\")\n",
        "                break\n",
        "\n",
        "            player = \"O\" if player == \"X\" else \"X\"\n",
        "        else:\n",
        "            print(\"That position is already taken. Try again.\")\n",
        "\n",
        "play_game()\n"
      ],
      "metadata": {
        "colab": {
          "base_uri": "https://localhost:8080/"
        },
        "id": "J-aLFrAmlHRH",
        "outputId": "f8f3644d-e817-4053-be0f-99558b5b20cc"
      },
      "execution_count": null,
      "outputs": [
        {
          "output_type": "stream",
          "name": "stdout",
          "text": [
            "Welcome to Tic-Tac-Toe!\n",
            "  |   |  \n",
            "---------\n",
            "  |   |  \n",
            "---------\n",
            "  |   |  \n",
            "---------\n",
            "Player X, enter row (0, 1, or 2): 3\n",
            "The value is out of scope. Please re-enter.\n",
            "Player X, enter row (0, 1, or 2): 3\n",
            "The value is out of scope. Please re-enter.\n",
            "Player X, enter row (0, 1, or 2): 2\n",
            "Player X, enter column (0, 1, or 2): 1\n",
            "  |   |  \n",
            "---------\n",
            "  |   |  \n",
            "---------\n",
            "  | X |  \n",
            "---------\n",
            "Player O, enter row (0, 1, or 2): 1\n",
            "Player O, enter column (0, 1, or 2): 1\n",
            "  |   |  \n",
            "---------\n",
            "  | O |  \n",
            "---------\n",
            "  | X |  \n",
            "---------\n"
          ]
        }
      ]
    }
  ]
}